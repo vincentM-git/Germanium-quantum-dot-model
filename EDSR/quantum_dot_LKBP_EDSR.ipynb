{
 "cells": [
  {
   "cell_type": "code",
   "execution_count": 33,
   "metadata": {
    "metadata": {}
   },
   "outputs": [
    {
     "name": "stdout",
     "output_type": "stream",
     "text": [
      "Lattice parameters (lengths in nm): {'L': 120, 'W': 120, 'H': 20, 'ax': 4, 'ay': 4, 'az': 1}\n",
      "Number of points on the lattice: 29*29*19=15979\n",
      "\n",
      "    mu * ((ga1 + 5*ga2/2) * (k_x**2 + k_y**2 + k_z**2 + 2 * k_x * Ax(y,z) + 2 * k_y * Ay(x,z)) * id4 \n",
      "    - 2 * ga2 * (k_x**2 * Jx2 + k_y**2 * Jy2 + k_z**2 * Jz2 + 2 * k_x * Ax(y,z) * Jx2 + 2 * k_y * Ay(x,z) * Jy2) \n",
      "    - ga3 * (kyz * Jyz + kzx * Jzx + kxy * Jxy \n",
      "    + (k_z * Ay(x,z) + Ay(x,z) * k_z) * Jyz + (k_z * Ax(y,z) + Ax(y,z) * k_z) * Jzx \n",
      "    + (k_x * Ay(x,z) + Ax(y,z) * k_y + k_y * Ax(y,z) + Ay(x,z) * k_x) * Jxy)) \n",
      "    + 2 * muB * (ka * (Jx*Bx + Jy*By + Jz*Bz) + qu * (Jx3*Bx + Jy3*By + Jz3*Bz)) \n",
      "    + V(x, y, z) * id4\n",
      "    + bv * (epsxx * Jx2 + epsyy * Jy2 + epszz * Jz2)\n",
      "    \n"
     ]
    }
   ],
   "source": [
    "import numpy as np\n",
    "from numpy import pi\n",
    "import kwant\n",
    "import kwant.continuum\n",
    "import tinyarray\n",
    "import scipy.sparse.linalg as sla\n",
    "from LK_utils import consts, Jmatrices, H_LKBP, box_3D, make_model_\n",
    "from material_parameters import parameters\n",
    "from double_dot import \n",
    "\n",
    "# define box of computation (lengths in nm)\n",
    "\n",
    "L = 120\n",
    "W = 120\n",
    "H = 20\n",
    "\n",
    "# Parameter for definition of computation lattice\n",
    "\n",
    "ax, ay, az = 4, 4, 1\n",
    "\n",
    "lat_params = {\"L\": L, \"W\": W, \"H\": H, \"ax\": ax, \"ay\": ay, \"az\": az}\n",
    "print('Lattice parameters (lengths in nm): {}'.format(lat_params))\n",
    "\n",
    "nx, ny, nz = int(L/ax - 1), int(W/ay - 1), int(H/az - 1)\n",
    "print('Number of points on the lattice: {0}*{1}*{2}={3}'.format(nx, ny, nz, nx*ny*nz))\n",
    "\n"
   ]
  },
  {
   "cell_type": "code",
   "execution_count": 29,
   "metadata": {
    "metadata": {}
   },
   "outputs": [],
   "source": [
    "def box_3D(site):\n",
    "    (x, y, z) = site.pos\n",
    "    return 0 <= x < L - ax and 0 <= y < W - ay and 0 <= z < H - az\n",
    "\n",
    "\n",
    "def make_model_LKBP(H_LK, mat_params, lat_params, eps_para, eps_perp, B):\n",
    "    syst = kwant.Builder()\n",
    "    subs = consts\n",
    "    subs.update(mat_params)\n",
    "    subs.update(lat_params)\n",
    "    subs.update(Jmatrices)\n",
    "    subs.update({\n",
    "        \"Bx\": B[0], \"By\": B[1], \"Bz\": B[2],\n",
    "        \"kyz\": \"k_y * k_z + k_z * k_y\",\n",
    "        \"kzx\": \"k_z * k_x + k_x * k_z\",\n",
    "        \"kxy\": \"k_x * k_y + k_y * k_x\",\n",
    "        \"epsxx\": eps_para, \"epsyy\": eps_para, \"epszz\":eps_perp\n",
    "        })\n",
    "\n",
    "    model = kwant.continuum.discretize(H_LK, locals=subs, grid=kwant.lattice.general([(ax, 0, 0), (0, ay, 0), (0, 0, az)], norbs=4))\n",
    "    syst.fill(model, box_3D, (0, 0, 0))\n",
    "    syst = syst.finalized()\n",
    "    return syst\n",
    "\n",
    "\n",
    "def eigs_gate_defined_potential(syst, d_QW, B, V, N=8):\n",
    "    def potential_vector_x(y, z):\n",
    "        return (2*pi/consts['phi0']) * (z*B[1] - y*B[2]/2)\n",
    "    \n",
    "    def potential_vector_y(x, z):\n",
    "        return (2*pi/consts['phi0']) * (-z*B[0] + x*B[2]/2)\n",
    "    \n",
    "    def potential(x, y, z):\n",
    "        def g(x,y,z):\n",
    "            return (0.5/pi) * np.arctan2(x * y, (z * np.sqrt(x**2 + y**2 + z**2)))\n",
    "        \n",
    "        Left = x0 - 0.5*Lg # Left and right x-coordinates of the dot\n",
    "        Right = x0 + 0.5*Lg  \n",
    "        Bot = y0 - 0.5*Lg # Bottom and top y-coordinates of the dot\n",
    "        Top = y0 + 0.5*Lg\n",
    "        return V * (g(x - Left, y - Bot, z + d_QW) + g(x - Left, Top - y, z + d_QW) + g(Right - x, y - Bot, z + d_QW) + g(Right - x, Top - y, z + d_QW))\n",
    "        \n",
    "    Ham = syst.hamiltonian_submatrix(params=dict(V=potential, Ax=potential_vector_x, Ay=potential_vector_y), sparse=True)\n",
    "    evals, evecs = sla.eigsh(Ham, k=N, which='SA')\n",
    "    idx = evals.argsort()\n",
    "    return [evals[idx], evecs[:,idx]]\n",
    "\n",
    "\n",
    "def eigs_double_dot_potential(syst, B, d, s, U0, eEz, N=8):\n",
    "    def potential_vector_x(y, z):\n",
    "        return (2*pi/consts['phi0']) * (z*B[1] - y*B[2])\n",
    "    \n",
    "    def potential_vector_y(x, z):\n",
    "        return (2*pi/consts['phi0']) * (-z*B[0])\n",
    "    \n",
    "    def double_dot_potential(x, y, z):\n",
    "        return Gaussian_symmetric_double_dot(x, y, d, U0, s) + eEz*z\n",
    "\n",
    "    Ham = syst.hamiltonian_submatrix(params=dict(V=double_dot_potential, Ax=potential_vector_x, Ay=potential_vector_y), sparse=True)\n",
    "    evals, evecs = sla.eigsh(Ham, k=N, which='SA')\n",
    "    idx = evals.argsort()\n",
    "    return [evals[idx], evecs[:,idx]]\n"
   ]
  },
  {
   "cell_type": "code",
   "execution_count": 4,
   "metadata": {
    "metadata": {}
   },
   "outputs": [
    {
     "name": "stdout",
     "output_type": "stream",
     "text": [
      "Material parameters: {'Material': 'Ge', 'ga1': 13.38, 'ga2': 4.24, 'ga3': 5.69, 'ka': 3.41, 'qu': 0.06, 'bv': -2860.0, 'nu': 0.73}\n"
     ]
    }
   ],
   "source": [
    "mat = 'Ge'\n",
    "\n",
    "def get_material_parameters(mat):\n",
    "    for row in parameters:\n",
    "        if row[\"Material\"] == mat:\n",
    "            return row\n",
    "\n",
    "mat_params = get_material_parameters(mat)\n",
    "print('Material parameters: {}'.format(mat_params))\n"
   ]
  },
  {
   "cell_type": "code",
   "execution_count": 5,
   "metadata": {
    "metadata": {}
   },
   "outputs": [
    {
     "name": "stdout",
     "output_type": "stream",
     "text": [
      "Computing spin splitting for magnetic field B = [0.25, 0.25, 0.05] T and gate voltage Vg = -1000.0 mV\n",
      "Spin splitting: 0.039310 meV (done in 57.63s).\n"
     ]
    },
    {
     "data": {
      "text/plain": [
       "0.039310170102339725"
      ]
     },
     "execution_count": 5,
     "metadata": {},
     "output_type": "execute_result"
    }
   ],
   "source": [
    "import time\n",
    "\n",
    "# gate position and dimension in nm\n",
    "\n",
    "x0 = L/2\n",
    "y0 = W/2\n",
    "Lg = 80\n",
    "\n",
    "# Distance to quantum well in nm\n",
    "\n",
    "d_QW = 50\n",
    "\n",
    "# Strain parameters\n",
    "\n",
    "eps_para = -0.0061\n",
    "eps_perp = 0.0045\n",
    "\n",
    "def Delta_s(mat_params, lat_params, eps_para, eps_perp, B, V):\n",
    "    print('Computing spin splitting for magnetic field B = {0} T and gate voltage Vg = {1:.1f} mV'.format(B, V))\n",
    "    t1 = time.time()\n",
    "    syst = make_model_LKBP(H_LKBP, mat_params, lat_params, eps_para, eps_perp, B)\n",
    "    evals = eigs_gate_defined_potential(syst, d_QW, B, V)[0]\n",
    "    Ds = evals[1] - evals[0]\n",
    "    t2 = time.time()\n",
    "    print('Spin splitting: {0:.6f} meV (done in {1:.2f}s).'.format(Ds, t2 - t1))\n",
    "    return Ds\n",
    "\n",
    "Delta_s(mat_params=mat_params, lat_params=lat_params, eps_para=eps_para, eps_perp=eps_perp, B=[0.25, 0.25, 0.05], V=-1000)"
   ]
  },
  {
   "cell_type": "code",
   "execution_count": 6,
   "metadata": {
    "metadata": {}
   },
   "outputs": [
    {
     "name": "stdout",
     "output_type": "stream",
     "text": [
      "Computing spin splitting and electric dipole moments for magnetic field B = [0.25, 0.25, 0.05] T and gate voltage Vg = -1000.0 mV\n",
      "Ds = 0.03931017010503979 meV\n",
      "(1.0000000000001066-6.00033552236637e-19j) (1.0000000000001132-1.0627459017322388e-18j)\n",
      "x01 = 0.00020 nm\n",
      "y01 = 0.00020 nm\n",
      "z01 = 0.00012 nm\n",
      "xl = 0.00104 nm\n",
      "yl = 0.00104 nm\n",
      "zl = 0.00062 nm\n",
      "Done in 62.658700 s\n"
     ]
    },
    {
     "data": {
      "text/plain": [
       "[0.03931017010503979,\n",
       " 0.00019875208267864405,\n",
       " 0.0001987520318934856,\n",
       " 0.00012360939076862552,\n",
       " 0.0010437415291164598,\n",
       " 0.0010437415289104024,\n",
       " 0.0006209230228169105]"
      ]
     },
     "execution_count": 6,
     "metadata": {},
     "output_type": "execute_result"
    }
   ],
   "source": [
    "def Ds_d01(mat_params, lat_params, B, V):\n",
    "    \"\"\"\n",
    "    Computes spin splitting and electric dipole matrix matrix elements \n",
    "    \"\"\"\n",
    "    t1 = time.time()\n",
    "    print('Computing spin splitting and electric dipole moments for magnetic field B = {0} T and gate voltage Vg = {1:.1f} mV'.format(B, V))\n",
    "    syst = make_model_LKBP(H_LKBP, mat_params, lat_params, eps_para, eps_perp, B)\n",
    "    eigs = eigs_gate_defined_potential(syst, d_QW, B, V)\n",
    "    evals = eigs[0]\n",
    "    Ds = evals[1] - evals[0]\n",
    "    print('Ds = {0} meV'.format(Ds))\n",
    "    \n",
    "    norbs = 4\n",
    "    x = np.arange(0, L - ax, ax)\n",
    "    y = np.arange(0, W - ay, ay)\n",
    "    z = np.arange(0, H - az, az)\n",
    "    X, Y, Z = np.meshgrid(x, y, z, indexing='ij')\n",
    "    \n",
    "    grid_shape = np.shape(X)\n",
    "    \n",
    "    # Get the wavefunctions for the first two levels\n",
    "    psi0 = eigs[1][:, 0].reshape((int(L/ax - 1) * int(W/ay - 1) * int(H/az - 1), norbs))\n",
    "    psi1 = eigs[1][:, 1].reshape((int(L/ax - 1) * int(W/ay - 1) * int(H/az - 1), norbs))\n",
    "    \n",
    "    # Compute matrix element for each spinor component\n",
    "    integral_x01 = integral_y01 = integral_z01 = integral_xl = integral_yl = integral_zl = 0.0 + 0.0j \n",
    "    norm0 = norm1 = 0.0\n",
    "    \n",
    "    for i in range(4):\n",
    "        psi0_i = psi0[:, i].reshape(grid_shape)\n",
    "        psi1_i = psi1[:, i].reshape(grid_shape)\n",
    "        norm0 += np.sum(np.conj(psi0_i)*psi0_i)\n",
    "        norm1 += np.sum(np.conj(psi1_i)*psi1_i)\n",
    "        integral_x01 += np.sum(np.conj(psi0_i) * X * psi1_i)\n",
    "        integral_y01 += np.sum(np.conj(psi0_i) * Y * psi1_i) \n",
    "        integral_z01 += np.sum(np.conj(psi0_i) * Z * psi1_i)\n",
    "        integral_xl += np.sum(np.conj(psi1_i) * X * psi1_i - np.conj(psi0_i) * X * psi0_i) \n",
    "        integral_yl += np.sum(np.conj(psi1_i) * Y * psi1_i - np.conj(psi0_i) * Y * psi0_i) \n",
    "        integral_zl += np.sum(np.conj(psi1_i) * Z * psi1_i - np.conj(psi0_i) * Z * psi0_i)\n",
    "\n",
    "    print(norm0, norm1)\n",
    "    x01 = np.abs(integral_x01)\n",
    "    y01 = np.abs(integral_y01)\n",
    "    z01 = np.abs(integral_z01)\n",
    "    xl = np.abs(integral_xl)\n",
    "    yl = np.abs(integral_yl)\n",
    "    zl = np.abs(integral_zl)\n",
    "    t2 = time.time()\n",
    "    print('x01 = {0:.5f} nm'.format(x01))\n",
    "    print('y01 = {0:.5f} nm'.format(y01))\n",
    "    print('z01 = {0:.5f} nm'.format(z01))\n",
    "    print('xl = {0:.5f} nm'.format(xl))\n",
    "    print('yl = {0:.5f} nm'.format(yl))\n",
    "    print('zl = {0:.5f} nm'.format(zl))\n",
    "    print('Done in {0:3f} s'.format(t2-t1))\n",
    "    return [Ds, x01, y01, z01, xl, yl, zl]\n",
    "\n",
    "Ds_d01(mat_params=mat_params, lat_params=lat_params, B=[0.25, 0.25, 0.05], V=-1000)"
   ]
  },
  {
   "cell_type": "code",
   "execution_count": null,
   "metadata": {},
   "outputs": [],
   "source": []
  }
 ],
 "metadata": {
  "kernelspec": {
   "display_name": "Python [conda env:base] *",
   "language": "python",
   "name": "conda-base-py"
  },
  "language_info": {
   "codemirror_mode": {
    "name": "ipython",
    "version": 3
   },
   "file_extension": ".py",
   "mimetype": "text/x-python",
   "name": "python",
   "nbconvert_exporter": "python",
   "pygments_lexer": "ipython3",
   "version": "3.12.3"
  }
 },
 "nbformat": 4,
 "nbformat_minor": 4
}
